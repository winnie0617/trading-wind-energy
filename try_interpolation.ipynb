{
 "cells": [
  {
   "cell_type": "code",
   "execution_count": 17,
   "metadata": {},
   "outputs": [],
   "source": [
    "import pandas as pd"
   ]
  },
  {
   "cell_type": "code",
   "execution_count": 18,
   "metadata": {
    "tags": []
   },
   "outputs": [
    {
     "output_type": "execute_result",
     "data": {
      "text/plain": "                     Time  Speed(m/s)  Direction (deg N)\n0     2017/01/01 00:00UTC        1.86                212\n1     2017/01/01 06:00UTC        2.47                194\n2     2017/01/01 12:00UTC        3.75                186\n3     2017/01/01 18:00UTC        3.22                192\n4     2017/01/02 00:00UTC        2.27                194\n...                   ...         ...                ...\n5127  2020/07/07 00:00UTC        2.23                327\n5128  2020/07/07 06:00UTC        1.02                228\n5129  2020/07/07 12:00UTC        2.68                265\n5130  2020/07/07 18:00UTC        3.40                322\n5131  2020/07/08 00:00UTC        1.99                283\n\n[5132 rows x 3 columns]",
      "text/html": "<div>\n<style scoped>\n    .dataframe tbody tr th:only-of-type {\n        vertical-align: middle;\n    }\n\n    .dataframe tbody tr th {\n        vertical-align: top;\n    }\n\n    .dataframe thead th {\n        text-align: right;\n    }\n</style>\n<table border=\"1\" class=\"dataframe\">\n  <thead>\n    <tr style=\"text-align: right;\">\n      <th></th>\n      <th>Time</th>\n      <th>Speed(m/s)</th>\n      <th>Direction (deg N)</th>\n    </tr>\n  </thead>\n  <tbody>\n    <tr>\n      <th>0</th>\n      <td>2017/01/01 00:00UTC</td>\n      <td>1.86</td>\n      <td>212</td>\n    </tr>\n    <tr>\n      <th>1</th>\n      <td>2017/01/01 06:00UTC</td>\n      <td>2.47</td>\n      <td>194</td>\n    </tr>\n    <tr>\n      <th>2</th>\n      <td>2017/01/01 12:00UTC</td>\n      <td>3.75</td>\n      <td>186</td>\n    </tr>\n    <tr>\n      <th>3</th>\n      <td>2017/01/01 18:00UTC</td>\n      <td>3.22</td>\n      <td>192</td>\n    </tr>\n    <tr>\n      <th>4</th>\n      <td>2017/01/02 00:00UTC</td>\n      <td>2.27</td>\n      <td>194</td>\n    </tr>\n    <tr>\n      <th>...</th>\n      <td>...</td>\n      <td>...</td>\n      <td>...</td>\n    </tr>\n    <tr>\n      <th>5127</th>\n      <td>2020/07/07 00:00UTC</td>\n      <td>2.23</td>\n      <td>327</td>\n    </tr>\n    <tr>\n      <th>5128</th>\n      <td>2020/07/07 06:00UTC</td>\n      <td>1.02</td>\n      <td>228</td>\n    </tr>\n    <tr>\n      <th>5129</th>\n      <td>2020/07/07 12:00UTC</td>\n      <td>2.68</td>\n      <td>265</td>\n    </tr>\n    <tr>\n      <th>5130</th>\n      <td>2020/07/07 18:00UTC</td>\n      <td>3.40</td>\n      <td>322</td>\n    </tr>\n    <tr>\n      <th>5131</th>\n      <td>2020/07/08 00:00UTC</td>\n      <td>1.99</td>\n      <td>283</td>\n    </tr>\n  </tbody>\n</table>\n<p>5132 rows × 3 columns</p>\n</div>"
     },
     "metadata": {},
     "execution_count": 18
    }
   ],
   "source": [
    "df = pd.read_csv('/Users/winniechow/trading-wind-energy/AppendixData/guitrancourt.csv', header=3)\n",
    "df"
   ]
  },
  {
   "cell_type": "code",
   "execution_count": 19,
   "metadata": {},
   "outputs": [
    {
     "output_type": "execute_result",
     "data": {
      "text/plain": "                           Speed(m/s)  Direction (deg N)\n2017-01-01 00:00:00+00:00        1.86              212.0\n2017-01-01 01:00:00+00:00         NaN                NaN\n2017-01-01 02:00:00+00:00         NaN                NaN\n2017-01-01 03:00:00+00:00         NaN                NaN\n2017-01-01 04:00:00+00:00         NaN                NaN\n...                               ...                ...\n2020-07-07 20:00:00+00:00         NaN                NaN\n2020-07-07 21:00:00+00:00         NaN                NaN\n2020-07-07 22:00:00+00:00         NaN                NaN\n2020-07-07 23:00:00+00:00         NaN                NaN\n2020-07-08 00:00:00+00:00        1.99              283.0\n\n[30817 rows x 2 columns]",
      "text/html": "<div>\n<style scoped>\n    .dataframe tbody tr th:only-of-type {\n        vertical-align: middle;\n    }\n\n    .dataframe tbody tr th {\n        vertical-align: top;\n    }\n\n    .dataframe thead th {\n        text-align: right;\n    }\n</style>\n<table border=\"1\" class=\"dataframe\">\n  <thead>\n    <tr style=\"text-align: right;\">\n      <th></th>\n      <th>Speed(m/s)</th>\n      <th>Direction (deg N)</th>\n    </tr>\n  </thead>\n  <tbody>\n    <tr>\n      <th>2017-01-01 00:00:00+00:00</th>\n      <td>1.86</td>\n      <td>212.0</td>\n    </tr>\n    <tr>\n      <th>2017-01-01 01:00:00+00:00</th>\n      <td>NaN</td>\n      <td>NaN</td>\n    </tr>\n    <tr>\n      <th>2017-01-01 02:00:00+00:00</th>\n      <td>NaN</td>\n      <td>NaN</td>\n    </tr>\n    <tr>\n      <th>2017-01-01 03:00:00+00:00</th>\n      <td>NaN</td>\n      <td>NaN</td>\n    </tr>\n    <tr>\n      <th>2017-01-01 04:00:00+00:00</th>\n      <td>NaN</td>\n      <td>NaN</td>\n    </tr>\n    <tr>\n      <th>...</th>\n      <td>...</td>\n      <td>...</td>\n    </tr>\n    <tr>\n      <th>2020-07-07 20:00:00+00:00</th>\n      <td>NaN</td>\n      <td>NaN</td>\n    </tr>\n    <tr>\n      <th>2020-07-07 21:00:00+00:00</th>\n      <td>NaN</td>\n      <td>NaN</td>\n    </tr>\n    <tr>\n      <th>2020-07-07 22:00:00+00:00</th>\n      <td>NaN</td>\n      <td>NaN</td>\n    </tr>\n    <tr>\n      <th>2020-07-07 23:00:00+00:00</th>\n      <td>NaN</td>\n      <td>NaN</td>\n    </tr>\n    <tr>\n      <th>2020-07-08 00:00:00+00:00</th>\n      <td>1.99</td>\n      <td>283.0</td>\n    </tr>\n  </tbody>\n</table>\n<p>30817 rows × 2 columns</p>\n</div>"
     },
     "metadata": {},
     "execution_count": 19
    }
   ],
   "source": [
    "# Upsample to hourly\n",
    "df.set_index('Time', inplace=True)\n",
    "df.index = pd.to_datetime(df.index)\n",
    "df = df.reindex(pd.date_range(start=df.index[0], end=df.index[-1], freq='H'))\n",
    "df"
   ]
  },
  {
   "cell_type": "code",
   "execution_count": 20,
   "metadata": {
    "tags": []
   },
   "outputs": [
    {
     "output_type": "execute_result",
     "data": {
      "text/plain": "array([[  1.86      , 212.        ],\n       [  1.96166667, 209.        ],\n       [  2.06333333, 206.        ],\n       ...,\n       [  2.46      , 296.        ],\n       [  2.225     , 289.5       ],\n       [  1.99      , 283.        ]])"
     },
     "metadata": {},
     "execution_count": 20
    }
   ],
   "source": [
    "# Linearly interpolate missing values\n",
    "df = df.interpolate()\n",
    "df.to_numpy()"
   ]
  }
 ],
 "metadata": {
  "language_info": {
   "codemirror_mode": {
    "name": "ipython",
    "version": 3
   },
   "file_extension": ".py",
   "mimetype": "text/x-python",
   "name": "python",
   "nbconvert_exporter": "python",
   "pygments_lexer": "ipython3",
   "version": "3.7.6-final"
  },
  "orig_nbformat": 2,
  "kernelspec": {
   "name": "python37664bitvenvconda3dcb4ed2e81b44da81ab44b28ad3c6d6",
   "display_name": "Python 3.7.6 64-bit ('venv': conda)"
  }
 },
 "nbformat": 4,
 "nbformat_minor": 2
}