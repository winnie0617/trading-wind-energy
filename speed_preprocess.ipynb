{
 "cells": [
  {
   "cell_type": "code",
   "execution_count": 69,
   "metadata": {},
   "outputs": [],
   "source": [
    "import pandas as pd\n",
    "from preprocess import interpolate"
   ]
  },
  {
   "cell_type": "code",
   "execution_count": 70,
   "metadata": {},
   "outputs": [
    {
     "output_type": "execute_result",
     "data": {
      "text/plain": "[                     Time  Speed(m/s)  Direction (deg N)\n 0     2017/01/01 00:00UTC        1.67                222\n 1     2017/01/01 06:00UTC        2.33                217\n 2     2017/01/01 12:00UTC        3.47                198\n 3     2017/01/01 18:00UTC        2.77                202\n 4     2017/01/02 00:00UTC        2.21                200\n ...                   ...         ...                ...\n 5131  2020/07/08 00:00UTC        3.11                334\n 5132  2020/07/08 06:00UTC        2.01                280\n 5133  2020/07/08 12:00UTC        4.11                276\n 5134  2020/07/08 18:00UTC        2.75                323\n 5135  2020/07/09 00:00UTC        1.85                345\n \n [5136 rows x 3 columns],\n                    Time  Speed(m/s)  Direction (deg N)\n 0   2020/07/10 18:00UTC        4.96                351\n 1   2020/07/10 21:00UTC        5.14                344\n 2   2020/07/11 00:00UTC        3.81                349\n 3   2020/07/11 03:00UTC        2.96                354\n 4   2020/07/11 06:00UTC        1.72                  2\n 5   2020/07/11 09:00UTC        2.49                 20\n 6   2020/07/11 12:00UTC        3.75                349\n 7   2020/07/11 15:00UTC        3.90                  2\n 8   2020/07/11 18:00UTC        4.22                 17\n 9   2020/07/11 21:00UTC        4.60                 17\n 10  2020/07/12 00:00UTC        4.41                 29\n 11  2020/07/12 03:00UTC        3.82                 26\n 12  2020/07/12 06:00UTC        3.34                 21\n 13  2020/07/12 09:00UTC        3.56                 34\n 14  2020/07/12 12:00UTC        3.10                 29\n 15  2020/07/12 18:00UTC        4.62                 12\n 16  2020/07/13 00:00UTC        4.63                 30\n 17  2020/07/13 03:00UTC        3.60                 32\n 18  2020/07/13 06:00UTC        2.74                 20\n 19  2020/07/13 09:00UTC        2.48                 20\n 20  2020/07/13 18:00UTC        2.48                  2\n 21  2020/07/14 00:00UTC        4.21                337\n 22  2020/07/14 09:00UTC        2.08                285\n 23  2020/07/14 12:00UTC        3.83                266\n 24  2020/07/14 15:00UTC        6.07                300\n 25  2020/07/14 18:00UTC        4.33                309\n 26  2020/07/15 03:00UTC        3.99                280\n 27  2020/07/15 06:00UTC        4.34                263\n 28  2020/07/15 09:00UTC        5.18                261\n 29  2020/07/15 21:00UTC        3.84                325\n 30  2020/07/16 00:00UTC        2.82                321\n 31  2020/07/16 03:00UTC        2.30                310\n 32  2020/07/16 06:00UTC        1.10                302\n 33  2020/07/16 09:00UTC        1.12                295\n 34  2020/07/16 12:00UTC        1.09                334]"
     },
     "metadata": {},
     "execution_count": 70
    }
   ],
   "source": [
    "df1 = pd.read_csv('/Users/winniechow/trading-wind-energy/AppendixData/angerville-1.csv', header=3)\n",
    "df2 = pd.read_csv('/Users/winniechow/trading-wind-energy/AppendixData/angerville-1-b.csv', header =3)\n",
    "frames = [df1, df2]\n",
    "frames"
   ]
  },
  {
   "cell_type": "code",
   "execution_count": 71,
   "metadata": {},
   "outputs": [
    {
     "output_type": "execute_result",
     "data": {
      "text/plain": "                   Time  Speed(m/s)  Direction (deg N)\n0   2017/01/01 00:00UTC        1.67                222\n1   2017/01/01 06:00UTC        2.33                217\n2   2017/01/01 12:00UTC        3.47                198\n3   2017/01/01 18:00UTC        2.77                202\n4   2017/01/02 00:00UTC        2.21                200\n..                  ...         ...                ...\n30  2020/07/16 00:00UTC        2.82                321\n31  2020/07/16 03:00UTC        2.30                310\n32  2020/07/16 06:00UTC        1.10                302\n33  2020/07/16 09:00UTC        1.12                295\n34  2020/07/16 12:00UTC        1.09                334\n\n[5171 rows x 3 columns]",
      "text/html": "<div>\n<style scoped>\n    .dataframe tbody tr th:only-of-type {\n        vertical-align: middle;\n    }\n\n    .dataframe tbody tr th {\n        vertical-align: top;\n    }\n\n    .dataframe thead th {\n        text-align: right;\n    }\n</style>\n<table border=\"1\" class=\"dataframe\">\n  <thead>\n    <tr style=\"text-align: right;\">\n      <th></th>\n      <th>Time</th>\n      <th>Speed(m/s)</th>\n      <th>Direction (deg N)</th>\n    </tr>\n  </thead>\n  <tbody>\n    <tr>\n      <th>0</th>\n      <td>2017/01/01 00:00UTC</td>\n      <td>1.67</td>\n      <td>222</td>\n    </tr>\n    <tr>\n      <th>1</th>\n      <td>2017/01/01 06:00UTC</td>\n      <td>2.33</td>\n      <td>217</td>\n    </tr>\n    <tr>\n      <th>2</th>\n      <td>2017/01/01 12:00UTC</td>\n      <td>3.47</td>\n      <td>198</td>\n    </tr>\n    <tr>\n      <th>3</th>\n      <td>2017/01/01 18:00UTC</td>\n      <td>2.77</td>\n      <td>202</td>\n    </tr>\n    <tr>\n      <th>4</th>\n      <td>2017/01/02 00:00UTC</td>\n      <td>2.21</td>\n      <td>200</td>\n    </tr>\n    <tr>\n      <th>...</th>\n      <td>...</td>\n      <td>...</td>\n      <td>...</td>\n    </tr>\n    <tr>\n      <th>30</th>\n      <td>2020/07/16 00:00UTC</td>\n      <td>2.82</td>\n      <td>321</td>\n    </tr>\n    <tr>\n      <th>31</th>\n      <td>2020/07/16 03:00UTC</td>\n      <td>2.30</td>\n      <td>310</td>\n    </tr>\n    <tr>\n      <th>32</th>\n      <td>2020/07/16 06:00UTC</td>\n      <td>1.10</td>\n      <td>302</td>\n    </tr>\n    <tr>\n      <th>33</th>\n      <td>2020/07/16 09:00UTC</td>\n      <td>1.12</td>\n      <td>295</td>\n    </tr>\n    <tr>\n      <th>34</th>\n      <td>2020/07/16 12:00UTC</td>\n      <td>1.09</td>\n      <td>334</td>\n    </tr>\n  </tbody>\n</table>\n<p>5171 rows × 3 columns</p>\n</div>"
     },
     "metadata": {},
     "execution_count": 71
    }
   ],
   "source": [
    "df_combined = pd.concat(frames)\n",
    "df_combined"
   ]
  },
  {
   "cell_type": "code",
   "execution_count": 72,
   "metadata": {},
   "outputs": [
    {
     "output_type": "execute_result",
     "data": {
      "text/plain": "                   Time  Speed(m/s)\n0   2017/01/01 00:00UTC        1.67\n1   2017/01/01 06:00UTC        2.33\n2   2017/01/01 12:00UTC        3.47\n3   2017/01/01 18:00UTC        2.77\n4   2017/01/02 00:00UTC        2.21\n..                  ...         ...\n30  2020/07/16 00:00UTC        2.82\n31  2020/07/16 03:00UTC        2.30\n32  2020/07/16 06:00UTC        1.10\n33  2020/07/16 09:00UTC        1.12\n34  2020/07/16 12:00UTC        1.09\n\n[5171 rows x 2 columns]",
      "text/html": "<div>\n<style scoped>\n    .dataframe tbody tr th:only-of-type {\n        vertical-align: middle;\n    }\n\n    .dataframe tbody tr th {\n        vertical-align: top;\n    }\n\n    .dataframe thead th {\n        text-align: right;\n    }\n</style>\n<table border=\"1\" class=\"dataframe\">\n  <thead>\n    <tr style=\"text-align: right;\">\n      <th></th>\n      <th>Time</th>\n      <th>Speed(m/s)</th>\n    </tr>\n  </thead>\n  <tbody>\n    <tr>\n      <th>0</th>\n      <td>2017/01/01 00:00UTC</td>\n      <td>1.67</td>\n    </tr>\n    <tr>\n      <th>1</th>\n      <td>2017/01/01 06:00UTC</td>\n      <td>2.33</td>\n    </tr>\n    <tr>\n      <th>2</th>\n      <td>2017/01/01 12:00UTC</td>\n      <td>3.47</td>\n    </tr>\n    <tr>\n      <th>3</th>\n      <td>2017/01/01 18:00UTC</td>\n      <td>2.77</td>\n    </tr>\n    <tr>\n      <th>4</th>\n      <td>2017/01/02 00:00UTC</td>\n      <td>2.21</td>\n    </tr>\n    <tr>\n      <th>...</th>\n      <td>...</td>\n      <td>...</td>\n    </tr>\n    <tr>\n      <th>30</th>\n      <td>2020/07/16 00:00UTC</td>\n      <td>2.82</td>\n    </tr>\n    <tr>\n      <th>31</th>\n      <td>2020/07/16 03:00UTC</td>\n      <td>2.30</td>\n    </tr>\n    <tr>\n      <th>32</th>\n      <td>2020/07/16 06:00UTC</td>\n      <td>1.10</td>\n    </tr>\n    <tr>\n      <th>33</th>\n      <td>2020/07/16 09:00UTC</td>\n      <td>1.12</td>\n    </tr>\n    <tr>\n      <th>34</th>\n      <td>2020/07/16 12:00UTC</td>\n      <td>1.09</td>\n    </tr>\n  </tbody>\n</table>\n<p>5171 rows × 2 columns</p>\n</div>"
     },
     "metadata": {},
     "execution_count": 72
    }
   ],
   "source": [
    "speeds = df_combined.drop(columns='Direction (deg N)')\n",
    "speeds"
   ]
  },
  {
   "cell_type": "code",
   "execution_count": 42,
   "metadata": {
    "tags": []
   },
   "outputs": [
    {
     "output_type": "error",
     "ename": "NameError",
     "evalue": "name 'path1' is not defined",
     "traceback": [
      "\u001b[0;31m---------------------------------------------------------------------------\u001b[0m",
      "\u001b[0;31mNameError\u001b[0m                                 Traceback (most recent call last)",
      "\u001b[0;32m<ipython-input-42-34ecc65de389>\u001b[0m in \u001b[0;36m<module>\u001b[0;34m\u001b[0m\n\u001b[0;32m----> 1\u001b[0;31m \u001b[0mdf1\u001b[0m \u001b[0;34m=\u001b[0m \u001b[0mpd\u001b[0m\u001b[0;34m.\u001b[0m\u001b[0mread_csv\u001b[0m\u001b[0;34m(\u001b[0m\u001b[0mpath1\u001b[0m\u001b[0;34m,\u001b[0m \u001b[0mheader\u001b[0m\u001b[0;34m=\u001b[0m\u001b[0;36m3\u001b[0m\u001b[0;34m)\u001b[0m\u001b[0;34m\u001b[0m\u001b[0;34m\u001b[0m\u001b[0m\n\u001b[0m\u001b[1;32m      2\u001b[0m \u001b[0mdf2\u001b[0m \u001b[0;34m=\u001b[0m \u001b[0mpd\u001b[0m\u001b[0;34m.\u001b[0m\u001b[0mread_csv\u001b[0m\u001b[0;34m(\u001b[0m\u001b[0mpath1\u001b[0m\u001b[0;34m,\u001b[0m \u001b[0mheader\u001b[0m\u001b[0;34m=\u001b[0m\u001b[0;36m3\u001b[0m\u001b[0;34m)\u001b[0m\u001b[0;34m\u001b[0m\u001b[0;34m\u001b[0m\u001b[0m\n\u001b[1;32m      3\u001b[0m \u001b[0mdf_combined\u001b[0m \u001b[0;34m=\u001b[0m \u001b[0mpd\u001b[0m\u001b[0;34m.\u001b[0m\u001b[0mconcat\u001b[0m\u001b[0;34m(\u001b[0m\u001b[0;34m[\u001b[0m\u001b[0mdf1\u001b[0m\u001b[0;34m,\u001b[0m \u001b[0mdf2\u001b[0m\u001b[0;34m]\u001b[0m\u001b[0;34m)\u001b[0m\u001b[0;34m\u001b[0m\u001b[0;34m\u001b[0m\u001b[0m\n\u001b[1;32m      4\u001b[0m \u001b[0mspeeds\u001b[0m \u001b[0;34m=\u001b[0m \u001b[0mdf_combined\u001b[0m\u001b[0;34m.\u001b[0m\u001b[0mdrop\u001b[0m\u001b[0;34m(\u001b[0m\u001b[0mcolumns\u001b[0m\u001b[0;34m=\u001b[0m\u001b[0;34m'Direction (deg N)'\u001b[0m\u001b[0;34m)\u001b[0m\u001b[0;34m\u001b[0m\u001b[0;34m\u001b[0m\u001b[0m\n",
      "\u001b[0;31mNameError\u001b[0m: name 'path1' is not defined"
     ]
    }
   ],
   "source": []
  },
  {
   "cell_type": "code",
   "execution_count": 73,
   "metadata": {},
   "outputs": [],
   "source": [
    "def combine_speeds(path1, path2):\n",
    "    '''\n",
    "    Takes the paths of the historical and predicted data of one farm, drops the direction column, and returns a dataframe object.\n",
    "    '''\n",
    "    df1 = pd.read_csv(path1, header=3)\n",
    "    df2 = pd.read_csv(path2, header=3)\n",
    "    df_combined = pd.concat([df1, df2])\n",
    "    return df_combined.drop(columns='Direction (deg N)')"
   ]
  },
  {
   "cell_type": "code",
   "execution_count": 74,
   "metadata": {
    "tags": []
   },
   "outputs": [
    {
     "output_type": "execute_result",
     "data": {
      "text/plain": "[                           Speed(m/s)\n 2017-01-01 00:00:00+00:00    1.670000\n 2017-01-01 01:00:00+00:00    1.780000\n 2017-01-01 02:00:00+00:00    1.890000\n 2017-01-01 03:00:00+00:00    2.000000\n 2017-01-01 04:00:00+00:00    2.110000\n ...                               ...\n 2020-07-16 08:00:00+00:00    1.113333\n 2020-07-16 09:00:00+00:00    1.120000\n 2020-07-16 10:00:00+00:00    1.110000\n 2020-07-16 11:00:00+00:00    1.100000\n 2020-07-16 12:00:00+00:00    1.090000\n \n [31021 rows x 1 columns],\n                            Speed(m/s)\n 2017-01-01 00:00:00+00:00    1.670000\n 2017-01-01 01:00:00+00:00    1.780000\n 2017-01-01 02:00:00+00:00    1.890000\n 2017-01-01 03:00:00+00:00    2.000000\n 2017-01-01 04:00:00+00:00    2.110000\n ...                               ...\n 2020-07-16 08:00:00+00:00    1.113333\n 2020-07-16 09:00:00+00:00    1.120000\n 2020-07-16 10:00:00+00:00    1.110000\n 2020-07-16 11:00:00+00:00    1.100000\n 2020-07-16 12:00:00+00:00    1.090000\n \n [31021 rows x 1 columns],\n                            Speed(m/s)\n 2017-01-01 00:00:00+00:00    1.450000\n 2017-01-01 01:00:00+00:00    1.558333\n 2017-01-01 02:00:00+00:00    1.666667\n 2017-01-01 03:00:00+00:00    1.775000\n 2017-01-01 04:00:00+00:00    1.883333\n ...                               ...\n 2020-07-16 08:00:00+00:00    1.510000\n 2020-07-16 09:00:00+00:00    1.760000\n 2020-07-16 10:00:00+00:00    1.610000\n 2020-07-16 11:00:00+00:00    1.460000\n 2020-07-16 12:00:00+00:00    1.310000\n \n [31021 rows x 1 columns],\n                            Speed(m/s)\n 2017-01-01 00:00:00+00:00    1.660000\n 2017-01-01 01:00:00+00:00    1.773333\n 2017-01-01 02:00:00+00:00    1.886667\n 2017-01-01 03:00:00+00:00    2.000000\n 2017-01-01 04:00:00+00:00    2.113333\n ...                               ...\n 2020-07-16 08:00:00+00:00    1.116667\n 2020-07-16 09:00:00+00:00    1.140000\n 2020-07-16 10:00:00+00:00    1.100000\n 2020-07-16 11:00:00+00:00    1.060000\n 2020-07-16 12:00:00+00:00    1.020000\n \n [31021 rows x 1 columns],\n                            Speed(m/s)\n 2017-01-01 00:00:00+00:00    1.860000\n 2017-01-01 01:00:00+00:00    1.961667\n 2017-01-01 02:00:00+00:00    2.063333\n 2017-01-01 03:00:00+00:00    2.165000\n 2017-01-01 04:00:00+00:00    2.266667\n ...                               ...\n 2020-07-16 08:00:00+00:00    1.313333\n 2020-07-16 09:00:00+00:00    1.390000\n 2020-07-16 10:00:00+00:00    1.536667\n 2020-07-16 11:00:00+00:00    1.683333\n 2020-07-16 12:00:00+00:00    1.830000\n \n [31021 rows x 1 columns],\n                            Speed(m/s)\n 2017-01-01 00:00:00+00:00    1.500000\n 2017-01-01 01:00:00+00:00    1.636667\n 2017-01-01 02:00:00+00:00    1.773333\n 2017-01-01 03:00:00+00:00    1.910000\n 2017-01-01 04:00:00+00:00    2.046667\n ...                               ...\n 2020-07-16 08:00:00+00:00    1.106667\n 2020-07-16 09:00:00+00:00    1.140000\n 2020-07-16 10:00:00+00:00    1.073333\n 2020-07-16 11:00:00+00:00    1.006667\n 2020-07-16 12:00:00+00:00    0.940000\n \n [31021 rows x 1 columns],\n                            Speed(m/s)\n 2017-01-01 00:00:00+00:00    1.710000\n 2017-01-01 01:00:00+00:00    1.820000\n 2017-01-01 02:00:00+00:00    1.930000\n 2017-01-01 03:00:00+00:00    2.040000\n 2017-01-01 04:00:00+00:00    2.150000\n ...                               ...\n 2020-07-16 08:00:00+00:00    1.096667\n 2020-07-16 09:00:00+00:00    1.100000\n 2020-07-16 10:00:00+00:00    1.093333\n 2020-07-16 11:00:00+00:00    1.086667\n 2020-07-16 12:00:00+00:00    1.080000\n \n [31021 rows x 1 columns],\n                            Speed(m/s)\n 2017-01-01 00:00:00+00:00    1.450000\n 2017-01-01 01:00:00+00:00    1.556667\n 2017-01-01 02:00:00+00:00    1.663333\n 2017-01-01 03:00:00+00:00    1.770000\n 2017-01-01 04:00:00+00:00    1.876667\n ...                               ...\n 2020-07-16 08:00:00+00:00    1.540000\n 2020-07-16 09:00:00+00:00    1.810000\n 2020-07-16 10:00:00+00:00    1.660000\n 2020-07-16 11:00:00+00:00    1.510000\n 2020-07-16 12:00:00+00:00    1.360000\n \n [31021 rows x 1 columns]]"
     },
     "metadata": {},
     "execution_count": 74
    }
   ],
   "source": [
    "csv_list = [['AppendixData/angerville-1.csv', 'AppendixData/angerville-1-b.csv'], ['AppendixData/angerville-2.csv',\n",
    "                                                                                    'AppendixData/angerville-2-b.csv'], ['AppendixData/arville.csv', 'AppendixData/arville-b.csv'], ['AppendixData/boissy-la-riviere.csv', 'AppendixData/boissy-la-riviere-b.csv'], ['AppendixData/guitrancourt.csv', 'AppendixData/guitrancourt-b.csv'], ['AppendixData/lieusaint.csv', 'AppendixData/lieusaint-b.csv'], ['AppendixData/lvs-pussay.csv', 'AppendixData/lvs-pussay-b.csv'], ['AppendixData/parc-du-gatinais.csv', 'AppendixData/parc-du-gatinais-b.csv']]\n",
    "df_list = []\n",
    "for pair in csv_list:\n",
    "    df = combine_speeds(pair[0], pair[1])\n",
    "    df = interpolate(df)\n",
    "    df_list.append(df)\n",
    "df_list"
   ]
  },
  {
   "cell_type": "code",
   "execution_count": 87,
   "metadata": {},
   "outputs": [
    {
     "output_type": "execute_result",
     "data": {
      "text/plain": "                           Speed(m/s)  Speed(m/s)  Speed(m/s)  Speed(m/s)  \\\n2017-01-01 00:00:00+00:00    1.670000    1.670000    1.450000    1.660000   \n2017-01-01 01:00:00+00:00    1.780000    1.780000    1.558333    1.773333   \n2017-01-01 02:00:00+00:00    1.890000    1.890000    1.666667    1.886667   \n2017-01-01 03:00:00+00:00    2.000000    2.000000    1.775000    2.000000   \n2017-01-01 04:00:00+00:00    2.110000    2.110000    1.883333    2.113333   \n...                               ...         ...         ...         ...   \n2020-07-16 08:00:00+00:00    1.113333    1.113333    1.510000    1.116667   \n2020-07-16 09:00:00+00:00    1.120000    1.120000    1.760000    1.140000   \n2020-07-16 10:00:00+00:00    1.110000    1.110000    1.610000    1.100000   \n2020-07-16 11:00:00+00:00    1.100000    1.100000    1.460000    1.060000   \n2020-07-16 12:00:00+00:00    1.090000    1.090000    1.310000    1.020000   \n\n                           Speed(m/s)  Speed(m/s)  Speed(m/s)  Speed(m/s)  \n2017-01-01 00:00:00+00:00    1.860000    1.500000    1.710000    1.450000  \n2017-01-01 01:00:00+00:00    1.961667    1.636667    1.820000    1.556667  \n2017-01-01 02:00:00+00:00    2.063333    1.773333    1.930000    1.663333  \n2017-01-01 03:00:00+00:00    2.165000    1.910000    2.040000    1.770000  \n2017-01-01 04:00:00+00:00    2.266667    2.046667    2.150000    1.876667  \n...                               ...         ...         ...         ...  \n2020-07-16 08:00:00+00:00    1.313333    1.106667    1.096667    1.540000  \n2020-07-16 09:00:00+00:00    1.390000    1.140000    1.100000    1.810000  \n2020-07-16 10:00:00+00:00    1.536667    1.073333    1.093333    1.660000  \n2020-07-16 11:00:00+00:00    1.683333    1.006667    1.086667    1.510000  \n2020-07-16 12:00:00+00:00    1.830000    0.940000    1.080000    1.360000  \n\n[31021 rows x 8 columns]",
      "text/html": "<div>\n<style scoped>\n    .dataframe tbody tr th:only-of-type {\n        vertical-align: middle;\n    }\n\n    .dataframe tbody tr th {\n        vertical-align: top;\n    }\n\n    .dataframe thead th {\n        text-align: right;\n    }\n</style>\n<table border=\"1\" class=\"dataframe\">\n  <thead>\n    <tr style=\"text-align: right;\">\n      <th></th>\n      <th>Speed(m/s)</th>\n      <th>Speed(m/s)</th>\n      <th>Speed(m/s)</th>\n      <th>Speed(m/s)</th>\n      <th>Speed(m/s)</th>\n      <th>Speed(m/s)</th>\n      <th>Speed(m/s)</th>\n      <th>Speed(m/s)</th>\n    </tr>\n  </thead>\n  <tbody>\n    <tr>\n      <th>2017-01-01 00:00:00+00:00</th>\n      <td>1.670000</td>\n      <td>1.670000</td>\n      <td>1.450000</td>\n      <td>1.660000</td>\n      <td>1.860000</td>\n      <td>1.500000</td>\n      <td>1.710000</td>\n      <td>1.450000</td>\n    </tr>\n    <tr>\n      <th>2017-01-01 01:00:00+00:00</th>\n      <td>1.780000</td>\n      <td>1.780000</td>\n      <td>1.558333</td>\n      <td>1.773333</td>\n      <td>1.961667</td>\n      <td>1.636667</td>\n      <td>1.820000</td>\n      <td>1.556667</td>\n    </tr>\n    <tr>\n      <th>2017-01-01 02:00:00+00:00</th>\n      <td>1.890000</td>\n      <td>1.890000</td>\n      <td>1.666667</td>\n      <td>1.886667</td>\n      <td>2.063333</td>\n      <td>1.773333</td>\n      <td>1.930000</td>\n      <td>1.663333</td>\n    </tr>\n    <tr>\n      <th>2017-01-01 03:00:00+00:00</th>\n      <td>2.000000</td>\n      <td>2.000000</td>\n      <td>1.775000</td>\n      <td>2.000000</td>\n      <td>2.165000</td>\n      <td>1.910000</td>\n      <td>2.040000</td>\n      <td>1.770000</td>\n    </tr>\n    <tr>\n      <th>2017-01-01 04:00:00+00:00</th>\n      <td>2.110000</td>\n      <td>2.110000</td>\n      <td>1.883333</td>\n      <td>2.113333</td>\n      <td>2.266667</td>\n      <td>2.046667</td>\n      <td>2.150000</td>\n      <td>1.876667</td>\n    </tr>\n    <tr>\n      <th>...</th>\n      <td>...</td>\n      <td>...</td>\n      <td>...</td>\n      <td>...</td>\n      <td>...</td>\n      <td>...</td>\n      <td>...</td>\n      <td>...</td>\n    </tr>\n    <tr>\n      <th>2020-07-16 08:00:00+00:00</th>\n      <td>1.113333</td>\n      <td>1.113333</td>\n      <td>1.510000</td>\n      <td>1.116667</td>\n      <td>1.313333</td>\n      <td>1.106667</td>\n      <td>1.096667</td>\n      <td>1.540000</td>\n    </tr>\n    <tr>\n      <th>2020-07-16 09:00:00+00:00</th>\n      <td>1.120000</td>\n      <td>1.120000</td>\n      <td>1.760000</td>\n      <td>1.140000</td>\n      <td>1.390000</td>\n      <td>1.140000</td>\n      <td>1.100000</td>\n      <td>1.810000</td>\n    </tr>\n    <tr>\n      <th>2020-07-16 10:00:00+00:00</th>\n      <td>1.110000</td>\n      <td>1.110000</td>\n      <td>1.610000</td>\n      <td>1.100000</td>\n      <td>1.536667</td>\n      <td>1.073333</td>\n      <td>1.093333</td>\n      <td>1.660000</td>\n    </tr>\n    <tr>\n      <th>2020-07-16 11:00:00+00:00</th>\n      <td>1.100000</td>\n      <td>1.100000</td>\n      <td>1.460000</td>\n      <td>1.060000</td>\n      <td>1.683333</td>\n      <td>1.006667</td>\n      <td>1.086667</td>\n      <td>1.510000</td>\n    </tr>\n    <tr>\n      <th>2020-07-16 12:00:00+00:00</th>\n      <td>1.090000</td>\n      <td>1.090000</td>\n      <td>1.310000</td>\n      <td>1.020000</td>\n      <td>1.830000</td>\n      <td>0.940000</td>\n      <td>1.080000</td>\n      <td>1.360000</td>\n    </tr>\n  </tbody>\n</table>\n<p>31021 rows × 8 columns</p>\n</div>"
     },
     "metadata": {},
     "execution_count": 87
    }
   ],
   "source": [
    "df = pd.concat(df_list, axis=1)\n",
    "df"
   ]
  },
  {
   "cell_type": "code",
   "execution_count": 88,
   "metadata": {},
   "outputs": [
    {
     "output_type": "execute_result",
     "data": {
      "text/plain": "2017-01-01 00:00:00+00:00    1.621250\n2017-01-01 01:00:00+00:00    1.733333\n2017-01-01 02:00:00+00:00    1.845417\n2017-01-01 03:00:00+00:00    1.957500\n2017-01-01 04:00:00+00:00    2.069583\n                               ...   \n2020-07-16 08:00:00+00:00    1.238750\n2020-07-16 09:00:00+00:00    1.322500\n2020-07-16 10:00:00+00:00    1.286667\n2020-07-16 11:00:00+00:00    1.250833\n2020-07-16 12:00:00+00:00    1.215000\nFreq: H, Length: 31021, dtype: float64"
     },
     "metadata": {},
     "execution_count": 88
    }
   ],
   "source": [
    "df.mean(axis=1)"
   ]
  },
  {
   "cell_type": "code",
   "execution_count": null,
   "metadata": {},
   "outputs": [],
   "source": []
  },
  {
   "cell_type": "code",
   "execution_count": null,
   "metadata": {},
   "outputs": [],
   "source": [
    "df1 = pd.read_csv/Users/winniechow/trading-wind-energy/AppendixData/angerville-1.csv()"
   ]
  }
 ],
 "metadata": {
  "language_info": {
   "codemirror_mode": {
    "name": "ipython",
    "version": 3
   },
   "file_extension": ".py",
   "mimetype": "text/x-python",
   "name": "python",
   "nbconvert_exporter": "python",
   "pygments_lexer": "ipython3",
   "version": "3.7.6-final"
  },
  "orig_nbformat": 2,
  "kernelspec": {
   "name": "python37664bitvenvconda3dcb4ed2e81b44da81ab44b28ad3c6d6",
   "display_name": "Python 3.7.6 64-bit ('venv': conda)"
  }
 },
 "nbformat": 4,
 "nbformat_minor": 2
}